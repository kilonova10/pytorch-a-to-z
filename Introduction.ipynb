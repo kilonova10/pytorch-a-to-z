{
 "cells": [
  {
   "cell_type": "markdown",
   "metadata": {},
   "source": [
    "## Making PyTorch easy to use: a more intuitive approach to deep learning\n",
    "\n",
    "### Can do everything in NumPy (nd arrays) but with PyTorch tensors"
   ]
  },
  {
   "cell_type": "code",
   "execution_count": 2,
   "metadata": {},
   "outputs": [],
   "source": [
    "import torch\n"
   ]
  },
  {
   "cell_type": "code",
   "execution_count": 3,
   "metadata": {},
   "outputs": [
    {
     "data": {
      "text/plain": [
       "tensor([[0., 0., 0.],\n",
       "        [0., 0., 0.]])"
      ]
     },
     "execution_count": 3,
     "metadata": {},
     "output_type": "execute_result"
    }
   ],
   "source": [
    "## basic operations\n",
    "\n",
    "x = torch.zeros(2,3)\n",
    "x"
   ]
  },
  {
   "cell_type": "code",
   "execution_count": 4,
   "metadata": {},
   "outputs": [
    {
     "data": {
      "text/plain": [
       "tensor([0.0000, 0.2000, 0.4000, 0.6000, 0.8000, 1.0000, 1.2000, 1.4000, 1.6000,\n",
       "        1.8000, 2.0000, 2.2000, 2.4000, 2.6000, 2.8000])"
      ]
     },
     "execution_count": 4,
     "metadata": {},
     "output_type": "execute_result"
    }
   ],
   "source": [
    "x = torch.arange(0,3, step = 0.2)\n",
    "x"
   ]
  },
  {
   "cell_type": "code",
   "execution_count": 6,
   "metadata": {},
   "outputs": [
    {
     "data": {
      "text/plain": [
       "tensor([[1.4013e-44, 0.0000e+00, 0.0000e+00],\n",
       "        [0.0000e+00, 0.0000e+00, 0.0000e+00]])"
      ]
     },
     "execution_count": 6,
     "metadata": {},
     "output_type": "execute_result"
    }
   ],
   "source": [
    "x = torch.FloatTensor(2, 3)\n",
    "x"
   ]
  },
  {
   "cell_type": "code",
   "execution_count": 19,
   "metadata": {},
   "outputs": [
    {
     "name": "stdout",
     "output_type": "stream",
     "text": [
      "tensor([[0.3603, 0.0832, 0.6640],\n",
      "        [0.7721, 0.0199, 0.0444],\n",
      "        [0.2913, 0.9217, 0.9616],\n",
      "        [0.3593, 0.3893, 0.5650],\n",
      "        [0.8964, 0.9852, 0.6519]])\n"
     ]
    }
   ],
   "source": [
    "x = torch.rand(5,3)\n",
    "out = torch.index_select(x, 0, torch.LongTensor([0,0]))\n",
    "print(x)"
   ]
  },
  {
   "cell_type": "code",
   "execution_count": 23,
   "metadata": {},
   "outputs": [
    {
     "data": {
      "text/plain": [
       "(tensor([0.6640, 0.0444, 0.9616, 0.5650, 0.6519]),\n",
       " tensor([0.0444, 0.9616, 0.5650, 0.6519]))"
      ]
     },
     "execution_count": 23,
     "metadata": {},
     "output_type": "execute_result"
    }
   ],
   "source": [
    "## array indexing\n",
    "\n",
    "x[:,2], x[1:,2]"
   ]
  },
  {
   "cell_type": "code",
   "execution_count": 27,
   "metadata": {},
   "outputs": [
    {
     "name": "stdout",
     "output_type": "stream",
     "text": [
      "tensor([[ 1.4176,  1.2236, -1.3988],\n",
      "        [ 1.2907, -0.0435,  0.0434],\n",
      "        [ 0.8088, -0.5788,  0.2644]])\n",
      "tensor([[1, 0, 0],\n",
      "        [0, 1, 0],\n",
      "        [0, 0, 1]], dtype=torch.uint8)\n",
      "tensor([ 1.4176, -0.0435,  0.2644])\n"
     ]
    }
   ],
   "source": [
    "## selection by masking\n",
    "\n",
    "x = torch.randn(3,3)\n",
    "mask = torch.ByteTensor([[1,0,0],[0,1,0], [0,0,1]])\n",
    "out = torch.masked_select(x, mask)\n",
    "print(x)\n",
    "print(mask) \n",
    "print(out)"
   ]
  },
  {
   "cell_type": "code",
   "execution_count": 29,
   "metadata": {},
   "outputs": [
    {
     "name": "stdout",
     "output_type": "stream",
     "text": [
      "tensor([[1., 1., 2.],\n",
      "        [3., 3., 4.]]) tensor([[-1., -2., -3.],\n",
      "        [-4., -5., -6.]])\n",
      "tensor([[ 1.,  1.,  2.],\n",
      "        [ 3.,  3.,  4.],\n",
      "        [-1., -2., -3.],\n",
      "        [-4., -5., -6.]]) tensor([[ 1.,  1.,  2., -1., -2., -3.],\n",
      "        [ 3.,  3.,  4., -4., -5., -6.]])\n"
     ]
    }
   ],
   "source": [
    "## concatenate arrays \n",
    "x = torch.FloatTensor([[1,1,2],[3,3,4]])\n",
    "y = torch.FloatTensor([[-1,-2,-3],[-4,-5,-6]])\n",
    "z1 = torch.cat([x,y],dim=0)\n",
    "z2 = torch.cat([x,y],dim=1)\n",
    "\n",
    "print(x, y)\n",
    "\n",
    "\n",
    "print(z1, z2)"
   ]
  },
  {
   "cell_type": "code",
   "execution_count": 33,
   "metadata": {},
   "outputs": [
    {
     "name": "stdout",
     "output_type": "stream",
     "text": [
      "tensor([[ 2.,  4.,  6.],\n",
      "        [ 8., 10., 12.]])\n"
     ]
    }
   ],
   "source": [
    "## Useful math functions\n",
    "\n",
    "x1 = torch.FloatTensor([[1,2,3],[4,5,6]])\n",
    "x2 = torch.FloatTensor([[1,2,3],[4,5,6]])\n",
    "print(torch.add(x1,x2))"
   ]
  },
  {
   "cell_type": "code",
   "execution_count": 37,
   "metadata": {},
   "outputs": [
    {
     "name": "stdout",
     "output_type": "stream",
     "text": [
      "tensor([[1214., 1483., 2021.],\n",
      "        [ 210.,  327.,  561.]])\n"
     ]
    }
   ],
   "source": [
    "## matrix product (m x n) * (n x p) = m x p\n",
    "\n",
    "x1 = torch.FloatTensor([[1,2,123,143],[94,-12,23,12]])\n",
    "x2 = torch.FloatTensor([[1,2, 4],[3,4, 6],[4,5, 7],[5,6,8]])\n",
    "\n",
    "print(torch.mm(x1,x2))"
   ]
  },
  {
   "cell_type": "code",
   "execution_count": 40,
   "metadata": {},
   "outputs": [
    {
     "name": "stdout",
     "output_type": "stream",
     "text": [
      "torch.return_types.eig(\n",
      "eigenvalues=tensor([[17.8639,  0.0000],\n",
      "        [-1.7563,  0.0000],\n",
      "        [ 0.8924,  0.0000]]),\n",
      "eigenvectors=tensor([[-0.3849, -0.1867, -0.1250],\n",
      "        [-0.3776,  0.8461, -0.7484],\n",
      "        [-0.8422, -0.4993,  0.6514]]))\n"
     ]
    }
   ],
   "source": [
    "## get eigenpair\n",
    "x1 = torch.FloatTensor([[3,4,5],[9,2,3],[4,9,12]])\n",
    "print(torch.eig(x1, True))"
   ]
  },
  {
   "cell_type": "code",
   "execution_count": null,
   "metadata": {},
   "outputs": [],
   "source": []
  }
 ],
 "metadata": {
  "kernelspec": {
   "display_name": "Python 3",
   "language": "python",
   "name": "python3"
  },
  "language_info": {
   "codemirror_mode": {
    "name": "ipython",
    "version": 3
   },
   "file_extension": ".py",
   "mimetype": "text/x-python",
   "name": "python",
   "nbconvert_exporter": "python",
   "pygments_lexer": "ipython3",
   "version": "3.6.5"
  }
 },
 "nbformat": 4,
 "nbformat_minor": 2
}
